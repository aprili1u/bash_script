{
 "cells": [
  {
   "cell_type": "code",
   "execution_count": 2,
   "metadata": {},
   "outputs": [
    {
     "ename": "SyntaxError",
     "evalue": "EOL while scanning string literal (<ipython-input-2-105c7f59e7ac>, line 9)",
     "output_type": "error",
     "traceback": [
      "\u001b[1;36m  File \u001b[1;32m\"<ipython-input-2-105c7f59e7ac>\"\u001b[1;36m, line \u001b[1;32m9\u001b[0m\n\u001b[1;33m    data = pd.read_csv(\"\\data_100interactions.csv\\\",header = None)\u001b[0m\n\u001b[1;37m                                                                  ^\u001b[0m\n\u001b[1;31mSyntaxError\u001b[0m\u001b[1;31m:\u001b[0m EOL while scanning string literal\n"
     ]
    }
   ],
   "source": [
    "import numpy as np\n",
    "import seaborn as sns\n",
    "import csv\n",
    "import pandas as pd\n",
    "import matplotlib.pyplot as plt\n",
    "\n",
    "def plot(n1,n2,n3,title):\n",
    "    X = [i for i in range (1,10000)]\n",
    "    data = pd.read_csv(\"\\data_100interactions.csv\",header = None)\n",
    "    i = 0\n",
    "    fig = plt.figure(figsize=(12, 7))\n",
    "    for i in range (len(data)):\n",
    "        dt = data.iloc[i]\n",
    "        if (dt[0] == n1 or dt[0] == n2 or dt[0] == n3):\n",
    "            i+=1\n",
    "            if (dt[0] == n1):\n",
    "                plt.plot(list(dt[1:]),color= 'deepskyblue')\n",
    "            if (dt[0] == n2):\n",
    "                plt.plot(list(dt[1:]),color= 'blue')\n",
    "            if (dt[0] == n3):\n",
    "                plt.plot(list(dt[1:]),color= 'gold')\n",
    "\n",
    "    plt.xlabel('Generations')\n",
    "    plt.ylabel('Mean memory')\n",
    "    plt.title(title)\n",
    "    plt.show()"
   ]
  },
  {
   "cell_type": "code",
   "execution_count": null,
   "metadata": {},
   "outputs": [],
   "source": []
  }
 ],
 "metadata": {
  "kernelspec": {
   "display_name": "Python 3",
   "language": "python",
   "name": "python3"
  },
  "language_info": {
   "codemirror_mode": {
    "name": "ipython",
    "version": 3
   },
   "file_extension": ".py",
   "mimetype": "text/x-python",
   "name": "python",
   "nbconvert_exporter": "python",
   "pygments_lexer": "ipython3",
   "version": "3.7.3"
  }
 },
 "nbformat": 4,
 "nbformat_minor": 4
}
